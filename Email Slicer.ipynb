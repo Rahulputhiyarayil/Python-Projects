{
 "cells": [
  {
   "cell_type": "markdown",
   "id": "076771e8",
   "metadata": {},
   "source": []
  },
  {
   "cell_type": "code",
   "execution_count": 1,
   "id": "8870e89a",
   "metadata": {},
   "outputs": [
    {
     "name": "stdout",
     "output_type": "stream",
     "text": [
      "Enter Your Email: ABCDEFG@gmail.com\n",
      "Your username is 'ABCDEFG'and your domain is 'gmail.com'\n"
     ]
    }
   ],
   "source": [
    "email=input(\"Enter Your Email: \").strip()\n",
    "username=email[:email.index('@')]\n",
    "domain_name=email[email.index(\"@\")+1:]\n",
    "format_=(f\"Your username is '{username}'and your domain is '{domain_name}'\")\n",
    "print(format_)"
   ]
  },
  {
   "cell_type": "code",
   "execution_count": null,
   "id": "de35eb25",
   "metadata": {},
   "outputs": [],
   "source": []
  }
 ],
 "metadata": {
  "kernelspec": {
   "display_name": "Python 3 (ipykernel)",
   "language": "python",
   "name": "python3"
  },
  "language_info": {
   "codemirror_mode": {
    "name": "ipython",
    "version": 3
   },
   "file_extension": ".py",
   "mimetype": "text/x-python",
   "name": "python",
   "nbconvert_exporter": "python",
   "pygments_lexer": "ipython3",
   "version": "3.9.7"
  }
 },
 "nbformat": 4,
 "nbformat_minor": 5
}
