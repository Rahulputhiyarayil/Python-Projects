{
 "cells": [
  {
   "cell_type": "code",
   "execution_count": 8,
   "id": "0005119b",
   "metadata": {},
   "outputs": [
    {
     "name": "stdout",
     "output_type": "stream",
     "text": [
      "Enter your height in centimeter: 174\n",
      "Enter your weight in kg: 74\n",
      "Your body mass index is 24.441802087462015\n",
      "you are healthy\n"
     ]
    }
   ],
   "source": [
    "Height=float(input(\"Enter your height in centimeter: \"))\n",
    "Weight=float(input(\"Enter your weight in kg: \"))\n",
    "Height=Height/100\n",
    "BMI=Weight/(Height*Height)\n",
    "print(\"Your body mass index is\",BMI)\n",
    "if (BMI>0):\n",
    "    if (BMI<=16):\n",
    "        print(\"you are severly underweight\")\n",
    "    elif(BMI<=18.5):\n",
    "        print(\"you are underweight\")\n",
    "    elif(BMI<=25):\n",
    "        print(\"you are healthy\")\n",
    "    elif(BMI<=30):\n",
    "        print(\"you are overweight\")\n",
    "else:(\"Enter valid details\")"
   ]
  },
  {
   "cell_type": "code",
   "execution_count": null,
   "id": "3537a39e",
   "metadata": {},
   "outputs": [],
   "source": []
  }
 ],
 "metadata": {
  "kernelspec": {
   "display_name": "Python 3 (ipykernel)",
   "language": "python",
   "name": "python3"
  },
  "language_info": {
   "codemirror_mode": {
    "name": "ipython",
    "version": 3
   },
   "file_extension": ".py",
   "mimetype": "text/x-python",
   "name": "python",
   "nbconvert_exporter": "python",
   "pygments_lexer": "ipython3",
   "version": "3.9.7"
  }
 },
 "nbformat": 4,
 "nbformat_minor": 5
}
